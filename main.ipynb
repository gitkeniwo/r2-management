{
 "cells": [
  {
   "cell_type": "code",
   "metadata": {},
   "source": [
    "import boto3\n",
    "from utils.bucket_file import move_objects"
   ],
   "outputs": [],
   "execution_count": null
  },
  {
   "metadata": {},
   "cell_type": "code",
   "source": [
    "# set up logger\n",
    "import logging\n",
    "import sys, os\n",
    "\n",
    "log_dir = \"logs\"\n",
    "os.makedirs(log_dir, exist_ok=True)\n",
    "\n",
    "logging.basicConfig(\n",
    "    level=logging.INFO,\n",
    "    format='%(asctime)s - %(levelname)s - %(message)s',\n",
    "    handlers=[\n",
    "        # log file output\n",
    "        logging.FileHandler(\n",
    "            os.path.join(log_dir, \"r2_copy_operation.log\")\n",
    "        ),\n",
    "        # console output\n",
    "        logging.StreamHandler(sys.stdout)\n",
    "    ]\n",
    ")\n",
    "logger = logging.getLogger(__name__)"
   ],
   "outputs": [],
   "execution_count": null
  },
  {
   "cell_type": "code",
   "metadata": {},
   "source": [
    "# set up S3 client with dotenv\n",
    "from dotenv import load_dotenv\n",
    "\n",
    "load_dotenv()\n",
    "\n",
    "s3 = boto3.client(\n",
    "    service_name=\"s3\",\n",
    "    endpoint_url=os.getenv(\"ENDPOINT_URL\"),\n",
    "    aws_access_key_id=os.getenv(\"ACCESS_KEY_ID\"),\n",
    "    aws_secret_access_key=os.getenv(\"SECRET_ACCESS_KEY\"),\n",
    "    region_name=os.getenv(\"REGION_NAME\")\n",
    ")"
   ],
   "outputs": [],
   "execution_count": null
  },
  {
   "cell_type": "code",
   "metadata": {},
   "source": [
    "# move objects\n",
    "\n",
    "bucket_name = 'new-memos'\n",
    "source_prefix = '2024-06/'\n",
    "destination_prefix = 'new-memos/2024-06/'\n",
    "\n",
    "move_objects(s3, bucket_name, source_prefix, destination_prefix)"
   ],
   "outputs": [],
   "execution_count": null
  }
 ],
 "metadata": {
  "kernelspec": {
   "display_name": "base",
   "language": "python",
   "name": "python3"
  },
  "language_info": {
   "codemirror_mode": {
    "name": "ipython",
    "version": 3
   },
   "file_extension": ".py",
   "mimetype": "text/x-python",
   "name": "python",
   "nbconvert_exporter": "python",
   "pygments_lexer": "ipython3",
   "version": "3.11.9"
  }
 },
 "nbformat": 4,
 "nbformat_minor": 2
}
